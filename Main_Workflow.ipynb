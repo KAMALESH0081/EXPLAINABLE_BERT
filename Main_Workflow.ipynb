{
 "cells": [
  {
   "cell_type": "code",
   "execution_count": 1,
   "id": "31f612ee",
   "metadata": {},
   "outputs": [],
   "source": [
    "import torch\n",
    "import numpy as np\n",
    "import random\n",
    "from datasets import load_dataset\n",
    "from transformers import BertTokenizer\n",
    "import matplotlib.pyplot as plt\n",
    "import seaborn as sns\n",
    "import pandas as pd"
   ]
  },
  {
   "cell_type": "code",
   "execution_count": 2,
   "id": "dc3da41d",
   "metadata": {},
   "outputs": [],
   "source": [
    "def set_seed(seed=42):\n",
    "    random.seed(seed)\n",
    "    np.random.seed(seed)\n",
    "    torch.manual_seed(seed)\n",
    "    torch.cuda.manual_seed_all(seed) \n",
    "    torch.backends.cudnn.deterministic = True\n",
    "    torch.backends.cudnn.benchmark = False"
   ]
  },
  {
   "cell_type": "code",
   "execution_count": 3,
   "id": "a6fc493c",
   "metadata": {},
   "outputs": [],
   "source": [
    "dataset = load_dataset(\"glue\", \"sst2\")"
   ]
  },
  {
   "cell_type": "code",
   "execution_count": 4,
   "id": "748dd4e4",
   "metadata": {},
   "outputs": [],
   "source": [
    "tokenizer = BertTokenizer.from_pretrained(\"bert-base-uncased\")"
   ]
  },
  {
   "cell_type": "code",
   "execution_count": 5,
   "id": "7c36f671",
   "metadata": {},
   "outputs": [],
   "source": [
    "train = pd.DataFrame(dataset[\"train\"])\n",
    "validation = pd.DataFrame(dataset[\"validation\"])\n",
    "test = pd.DataFrame(dataset[\"test\"])"
   ]
  },
  {
   "cell_type": "code",
   "execution_count": 6,
   "id": "fdf03e14",
   "metadata": {},
   "outputs": [],
   "source": [
    "train['tokenized'] = train['sentence'].apply(lambda x: tokenizer.encode(x, add_special_tokens=True))\n",
    "validation['tokenized'] = validation['sentence'].apply(lambda x: tokenizer.encode(x, add_special_tokens=True))"
   ]
  },
  {
   "cell_type": "code",
   "execution_count": 7,
   "id": "27749181",
   "metadata": {},
   "outputs": [],
   "source": [
    "train['token_len'] = train['tokenized'].apply(lambda x: len(x))\n",
    "validation['token_len'] = validation['tokenized'].apply(lambda x: len(x))"
   ]
  },
  {
   "cell_type": "code",
   "execution_count": 8,
   "id": "442174fb",
   "metadata": {},
   "outputs": [],
   "source": [
    "max_len = 64\n",
    "train = train[train['token_len'] <= max_len]\n",
    "validation = validation[validation['token_len'] <= max_len]"
   ]
  },
  {
   "cell_type": "code",
   "execution_count": 9,
   "id": "43b251d2",
   "metadata": {},
   "outputs": [],
   "source": [
    "max_len = 64\n",
    " \n",
    "def pad_sequence(tokens, max_len):\n",
    "    \n",
    "    if len(tokens) < max_len:\n",
    "        tokens.extend([0] * (max_len - len(tokens)))\n",
    "    # Truncate if it's longer than max_len\n",
    "    else:\n",
    "       print(f\"token length is equal to or greater than max_seq({max_len}) : -- {len(tokens)} -- {tokens}\")\n",
    "       tokens = tokens[:max_len]\n",
    "    if len(tokens) != max_len:\n",
    "        print(f\"Padded sequence does not match max_len({max_len}) : {len(tokens)}\")\n",
    "    return tokens"
   ]
  },
  {
   "cell_type": "code",
   "execution_count": 10,
   "id": "fdf594c8",
   "metadata": {},
   "outputs": [
    {
     "name": "stdout",
     "output_type": "stream",
     "text": [
      "token length is equal to or greater than max_seq(64) : -- 64 -- [101, 2045, 2024, 1050, 1005, 1056, 2205, 2116, 3152, 2008, 2064, 2022, 2004, 7453, 6057, 1010, 2125, 19442, 1998, 2540, 9028, 6562, 1006, 2302, 1037, 4317, 14021, 4168, 2906, 1997, 1996, 27571, 1010, 2012, 2560, 1007, 1010, 2021, 1036, 1036, 3449, 2989, 1005, 1005, 9020, 2000, 2079, 2035, 2093, 3243, 2092, 1010, 2437, 2009, 2028, 1997, 1996, 2095, 1005, 1055, 2087, 22249, 7085, 102]\n"
     ]
    }
   ],
   "source": [
    "train['padded_tokens'] = train['tokenized'].apply(lambda x: pad_sequence(x, max_len))\n",
    "validation['padded_tokens'] = validation['tokenized'].apply(lambda x: pad_sequence(x, max_len))"
   ]
  },
  {
   "cell_type": "code",
   "execution_count": 11,
   "id": "a36d5676",
   "metadata": {},
   "outputs": [],
   "source": [
    "from torch.utils.data import Dataset\n",
    "\n",
    "class BERT_DataLoader(Dataset):\n",
    "    def __init__(self, dataframe, pad_token=tokenizer.pad_token_id):\n",
    "        self.dataframe = dataframe\n",
    "        self.pad_token = pad_token \n",
    "\n",
    "    def __len__(self):\n",
    "        return len(self.dataframe)\n",
    "\n",
    "    def __getitem__(self, idx):\n",
    "        text = self.dataframe.iloc[idx][\"sentence\"]\n",
    "        input_ids = torch.tensor(self.dataframe.iloc[idx][\"padded_tokens\"], dtype=torch.long)\n",
    "        label = torch.tensor(self.dataframe.iloc[idx][\"label\"], dtype=torch.long)\n",
    "\n",
    "        seq_len = input_ids.size(0)\n",
    "\n",
    "        # Step 1: Create key padding mask: shape [seq_len]\n",
    "        key_padding = (input_ids != self.pad_token).int()\n",
    "\n",
    "        # Step 2: Expand to [1, seq_len] and then outer product → [1, seq_len, seq_len]\n",
    "        pad_mask = key_padding.unsqueeze(0) & key_padding.unsqueeze(1)  # [seq_len, seq_len]\n",
    "        pad_mask = pad_mask.unsqueeze(0).int()  # Final shape: [1, seq_len, seq_len]\n",
    "\n",
    "        return {\n",
    "            \"text\": text,\n",
    "            \"input_ids\": input_ids.clone(),      # [seq_len]\n",
    "            \"pad_mask\": pad_mask.clone(),        # [1, seq_len, seq_len]\n",
    "            \"label\": label                        # scalar\n",
    "        }"
   ]
  },
  {
   "cell_type": "code",
   "execution_count": 12,
   "id": "7708f948",
   "metadata": {},
   "outputs": [],
   "source": [
    "from torch.utils.data import DataLoader\n",
    "train_dataset = BERT_DataLoader(train)\n",
    "dataloader = DataLoader(train_dataset, batch_size=8, shuffle=False)\n",
    "val_dataset = BERT_DataLoader(validation)\n",
    "val_dataloader = DataLoader(val_dataset, batch_size=8, shuffle=False)"
   ]
  },
  {
   "cell_type": "code",
   "execution_count": 33,
   "id": "e0e8bfaa",
   "metadata": {},
   "outputs": [
    {
     "name": "stdout",
     "output_type": "stream",
     "text": [
      "['hide new secretions from the parental units ', 'contains no wit , only labored gags ', 'that loves its characters and communicates something rather beautiful about human nature ', 'remains utterly satisfied to remain the same throughout ', 'on the worst revenge-of-the-nerds clichés the filmmakers could dredge up ', \"that 's far too tragic to merit such superficial treatment \", 'demonstrates that the director of such hollywood blockbusters as patriot games can still turn out a small , personal film with an emotional wallop . ', 'of saucy ']\n"
     ]
    }
   ],
   "source": [
    "for batch in dataloader:\n",
    "    print(batch['text'])\n",
    "    break"
   ]
  },
  {
   "cell_type": "markdown",
   "id": "f0de3aaa",
   "metadata": {},
   "source": [
    "BASE MODEL ARCHITECTURE"
   ]
  },
  {
   "cell_type": "code",
   "execution_count": 13,
   "id": "65dc9967",
   "metadata": {},
   "outputs": [],
   "source": [
    "set_seed(42)\n",
    "vocab_size = len(tokenizer.get_vocab())\n",
    "d_model = 256\n",
    "n_heads = 4\n",
    "d_ff = 1024\n",
    "n_layers_for_base_model =  4\n",
    "n_layers_for_Xper_model =  3\n",
    "dropout = 0.1\n",
    "n_class = 2"
   ]
  },
  {
   "cell_type": "code",
   "execution_count": 14,
   "id": "99189d4e",
   "metadata": {},
   "outputs": [
    {
     "name": "stdout",
     "output_type": "stream",
     "text": [
      "Using device: cuda\n"
     ]
    }
   ],
   "source": [
    "#BASE MODEL ARCHITECTURE\n",
    "\n",
    "device = torch.device(\"cuda\" if torch.cuda.is_available() else \"cpu\")\n",
    "print(f\"Using device: {device}\")\n",
    "\n",
    "import torch.nn as nn\n",
    "import math\n",
    "import torch.nn.functional as F\n",
    "\n",
    "class PositionalEncoding(nn.Module):\n",
    "    def __init__(self, d_model, max_len=64):\n",
    "        super(PositionalEncoding, self).__init__()\n",
    "        pe = torch.zeros(max_len, d_model)\n",
    "        position = torch.arange(0, max_len).unsqueeze(1)\n",
    "        div_term = torch.exp(torch.arange(0, d_model, 2) * -(math.log(10000.0) / d_model))\n",
    "        pe[:, 0::2] = torch.sin(position * div_term)\n",
    "        pe[:, 1::2] = torch.cos(position * div_term)\n",
    "        pe = pe.unsqueeze(0)\n",
    "        self.register_buffer('pe', pe)\n",
    "    def forward(self, x):\n",
    "        return x + self.pe[:, :x.size(1)]\n",
    "\n",
    "\n",
    "class MultiHeadSelfAttention(nn.Module):\n",
    "    def __init__(self, d_model: int, h: int, dropout: float) -> None:\n",
    "        super().__init__()\n",
    "        self.d_model = d_model  # Embedding vector size\n",
    "        self.h = h  # Number of heads\n",
    "        # Make sure d_model is divisible by h\n",
    "        assert d_model % h == 0, \"d_model is not divisible by h\"\n",
    "\n",
    "        self.d_k = d_model // h  # Dimension of vector seen by each head\n",
    "        self.w_q = nn.Linear(d_model, d_model, bias=False)  # Wq\n",
    "        self.w_k = nn.Linear(d_model, d_model, bias=False)  # Wk\n",
    "        self.w_v = nn.Linear(d_model, d_model, bias=False)  # Wv\n",
    "        self.w_o = nn.Linear(d_model, d_model, bias=False)  # Wo\n",
    "        self.dropout = nn.Dropout(dropout)\n",
    "        self.attn_weights = None  # To store attention weights if needed\n",
    "\n",
    "    def forward(self, q, k, v, mask, return_attention_weights):\n",
    "        # Apply linear transformations to the inputs\n",
    "        query = self.w_q(q)  # (batch, seq_len, d_model) --> (batch, seq_len, d_model)\n",
    "        key = self.w_k(k)  # (batch, seq_len, d_model) --> (batch, seq_len, d_model)\n",
    "        value = self.w_v(v)  # (batch, seq_len, d_model) --> (batch, seq_len, d_model)\n",
    "\n",
    "        # Reshape to (batch, seq_len, h, d_k) and then transpose to (batch, h, seq_len, d_k)\n",
    "        query = query.view(query.shape[0], query.shape[1], self.h, self.d_k).transpose(1, 2)\n",
    "        key = key.view(key.shape[0], key.shape[1], self.h, self.d_k).transpose(1, 2)\n",
    "        value = value.view(value.shape[0], value.shape[1], self.h, self.d_k).transpose(1, 2)\n",
    "    \n",
    "        mask = mask.to(torch.bool)  \n",
    "        attn_output = F.scaled_dot_product_attention(query, key, value, attn_mask=mask)\n",
    "        \n",
    "        attn_output = attn_output.transpose(1, 2).contiguous().view(attn_output.shape[0], -1, self.h * self.d_k)\n",
    "        output = self.w_o(attn_output)\n",
    "\n",
    "        if return_attention_weights == True:\n",
    "            scores = torch.matmul(query, key.transpose(-2, -1)) / self.d_k**0.5\n",
    "            self.attn_weights = torch.softmax(scores, dim=-1)\n",
    "            \n",
    "        return output\n",
    "\n",
    "class FeedForward(nn.Module):\n",
    "    def __init__(self, d_model, d_ff):\n",
    "        super(FeedForward, self).__init__()\n",
    "        self.linear1 = nn.Linear(d_model, d_ff)\n",
    "        self.relu = nn.ReLU()\n",
    "        self.linear2 = nn.Linear(d_ff, d_model)\n",
    "\n",
    "    def forward(self, x):\n",
    "        return self.linear2(self.relu(self.linear1(x)))\n",
    "\n",
    "class Block(nn.Module):\n",
    "    def __init__(self, d_model, n_heads, d_ff, dropout=0.1):\n",
    "        super(Block, self).__init__()\n",
    "        self.self_attn = MultiHeadSelfAttention(d_model, n_heads, dropout)\n",
    "        self.ff = FeedForward(d_model, d_ff)\n",
    "        self.norm1 = nn.LayerNorm(d_model)\n",
    "        self.norm2 = nn.LayerNorm(d_model)\n",
    "        self.dropout = nn.Dropout(dropout)\n",
    "\n",
    "    def forward(self, x, tgt_mask, return_attention_weights):\n",
    "        self_attn_output = self.self_attn(x ,x, x, tgt_mask, return_attention_weights)\n",
    "        x = self.norm1(x + self.dropout(self_attn_output))\n",
    "        ff_output = self.ff(x)\n",
    "        x = self.norm2(x + self.dropout(ff_output))\n",
    "        return x\n",
    "\n",
    "class Transformer(nn.Module):\n",
    "    def __init__(self, n_class, output_dim, d_model, n_heads, d_ff, n_layers, dropout=0.1):\n",
    "        super(Transformer, self).__init__()\n",
    "        self.embedding = nn.Embedding(output_dim, d_model)\n",
    "        self.positional_encoding = PositionalEncoding(d_model, max_len=64)\n",
    "        self.layers = nn.ModuleList([Block(d_model, n_heads, d_ff, dropout) for _ in range(n_layers)])\n",
    "        self.fc_out = nn.Linear(d_model, n_class)\n",
    "        \n",
    "    def forward(self, tgt, tgt_mask, return_attention_weights =False):\n",
    "        x = self.embedding(tgt)\n",
    "        x = self.positional_encoding(x)\n",
    "        for layer in self.layers:\n",
    "            x = layer(x, tgt_mask, return_attention_weights)\n",
    "        cls_token = x[:, 0, :]\n",
    "        return self.fc_out(cls_token)\n",
    "  \n",
    "Bert_base_model = Transformer(n_class, vocab_size, d_model, n_heads, d_ff, n_layers_for_base_model, dropout).to(device)"
   ]
  },
  {
   "cell_type": "code",
   "execution_count": 15,
   "id": "8ce8d6ba",
   "metadata": {},
   "outputs": [
    {
     "name": "stdout",
     "output_type": "stream",
     "text": [
      "Using device: cuda\n"
     ]
    }
   ],
   "source": [
    "device = torch.device(\"cuda\" if torch.cuda.is_available() else \"cpu\")\n",
    "print(f\"Using device: {device}\")\n",
    "\n",
    "import torch.nn as nn\n",
    "import math\n",
    "import torch.nn.functional as F\n",
    "\n",
    "class PositionalEncoding(nn.Module):\n",
    "    def __init__(self, d_model, max_len=64):\n",
    "        super(PositionalEncoding, self).__init__()\n",
    "        pe = torch.zeros(max_len, d_model)\n",
    "        position = torch.arange(0, max_len).unsqueeze(1)\n",
    "        div_term = torch.exp(torch.arange(0, d_model, 2) * -(math.log(10000.0) / d_model))\n",
    "        pe[:, 0::2] = torch.sin(position * div_term)\n",
    "        pe[:, 1::2] = torch.cos(position * div_term)\n",
    "        pe = pe.unsqueeze(0)\n",
    "        self.register_buffer('pe', pe)\n",
    "    def forward(self, x):\n",
    "        return x + self.pe[:, :x.size(1)]\n",
    "\n",
    "class MultiHeadSelfAttention(nn.Module):\n",
    "    def __init__(self, d_model: int, h: int, dropout: float) -> None:\n",
    "        super().__init__()\n",
    "        self.d_model = d_model  # Embedding vector size\n",
    "        self.h = h  # Number of heads\n",
    "        # Make sure d_model is divisible by h\n",
    "        assert d_model % h == 0, \"d_model is not divisible by h\"\n",
    "\n",
    "        self.d_k = d_model // h  # Dimension of vector seen by each head\n",
    "        self.w_q = nn.Linear(d_model, d_model, bias=False)  # Wq\n",
    "        self.w_k = nn.Linear(d_model, d_model, bias=False)  # Wk\n",
    "        self.w_v = nn.Linear(d_model, d_model, bias=False)  # Wv\n",
    "        self.w_o = nn.Linear(d_model, d_model, bias=False)  # Wo\n",
    "        self.dropout = nn.Dropout(dropout)\n",
    "        self.attn_weights = None  # To store attention weights if needed\n",
    "\n",
    "    def forward(self, q, k, v, mask, return_attention_weights = False):\n",
    "        # Apply linear transformations to the inputs\n",
    "        query = self.w_q(q)  # (batch, seq_len, d_model) --> (batch, seq_len, d_model)\n",
    "        key = self.w_k(k)  # (batch, seq_len, d_model) --> (batch, seq_len, d_model)\n",
    "        value = self.w_v(v)  # (batch, seq_len, d_model) --> (batch, seq_len, d_model)\n",
    "\n",
    "        # Reshape to (batch, seq_len, h, d_k) and then transpose to (batch, h, seq_len, d_k)\n",
    "        query = query.view(query.shape[0], query.shape[1], self.h, self.d_k).transpose(1, 2)\n",
    "        key = key.view(key.shape[0], key.shape[1], self.h, self.d_k).transpose(1, 2)\n",
    "        value = value.view(value.shape[0], value.shape[1], self.h, self.d_k).transpose(1, 2)\n",
    "    \n",
    "        mask = mask.to(torch.bool)  \n",
    "        attn_output = F.scaled_dot_product_attention(query, key, value, attn_mask=mask)\n",
    "        \n",
    "        attn_output = attn_output.transpose(1, 2).contiguous().view(attn_output.shape[0], -1, self.h * self.d_k)\n",
    "        output = self.w_o(attn_output)\n",
    "        if return_attention_weights == True:\n",
    "            scores = torch.matmul(query, key.transpose(-2, -1)) / self.d_k**0.5\n",
    "            self.attn_weights = torch.softmax(scores, dim=-1)\n",
    "        return output\n",
    "\n",
    "class FeedForward(nn.Module):\n",
    "    def __init__(self, d_model, d_ff):\n",
    "        super(FeedForward, self).__init__()\n",
    "        self.linear1 = nn.Linear(d_model, d_ff)\n",
    "        self.relu = nn.ReLU()\n",
    "        self.linear2 = nn.Linear(d_ff, d_model)\n",
    "\n",
    "    def forward(self, x):\n",
    "        return self.linear2(self.relu(self.linear1(x)))\n",
    "\n",
    "class Block(nn.Module):\n",
    "    def __init__(self, d_model, n_heads, d_ff, dropout=0.1):\n",
    "        super(Block, self).__init__()\n",
    "        self.self_attn = MultiHeadSelfAttention(d_model, n_heads, dropout)\n",
    "        self.ff = FeedForward(d_model, d_ff)\n",
    "        self.norm1 = nn.LayerNorm(d_model)\n",
    "        self.norm2 = nn.LayerNorm(d_model)\n",
    "        self.dropout = nn.Dropout(dropout)\n",
    "\n",
    "    def forward(self, x, tgt_mask):\n",
    "        self_attn_output = self.self_attn(x ,x, x, tgt_mask)\n",
    "        x = self.norm1(x + self.dropout(self_attn_output))\n",
    "        ff_output = self.ff(x)\n",
    "        x = self.norm2(x + self.dropout(ff_output))\n",
    "        return x\n",
    "\n",
    "class FinalSingleHeadAttention(nn.Module):\n",
    "    def __init__(self, d_model, d_ff, dropout=0.1):\n",
    "        super(FinalSingleHeadAttention, self).__init__()\n",
    "        self.self_attn = MultiHeadSelfAttention(d_model, 1, dropout)\n",
    "        self.ff = FeedForward(d_model, d_ff)\n",
    "        self.norm1 = nn.LayerNorm(d_model)\n",
    "        self.norm2 = nn.LayerNorm(d_model)\n",
    "        self.dropout = nn.Dropout(dropout)\n",
    "\n",
    "    def forward(self, x, tgt_mask, return_attention_weights):\n",
    "        self_attn_output = self.self_attn(x ,x, x, tgt_mask, return_attention_weights)\n",
    "        x = self.norm1(x + self.dropout(self_attn_output))\n",
    "        ff_output = self.ff(x)\n",
    "        x = self.norm2(x + self.dropout(ff_output))\n",
    "        return x\n",
    "\n",
    "class Transformer(nn.Module):\n",
    "    def __init__(self, n_class, output_dim, d_model, n_heads, d_ff, n_layers, dropout=0.1):\n",
    "        super(Transformer, self).__init__()\n",
    "        self.embedding = nn.Embedding(output_dim, d_model)\n",
    "        self.positional_encoding = PositionalEncoding(d_model, max_len=64)\n",
    "        self.layers = nn.ModuleList([Block(d_model, n_heads, d_ff, dropout) for _ in range(n_layers)])\n",
    "        self.final_atten = FinalSingleHeadAttention(d_model, d_ff, dropout)\n",
    "        self.fc_out = nn.Linear(d_model, n_class)\n",
    "        \n",
    "    def forward(self, tgt, tgt_mask, return_attention_weights = False):\n",
    "        x = self.embedding(tgt)\n",
    "        x = self.positional_encoding(x)\n",
    "        for layer in self.layers:\n",
    "            x = layer(x, tgt_mask)\n",
    "        x = self.final_atten(x, tgt_mask, return_attention_weights)\n",
    "        cls_token = x[:, 0, :]\n",
    "        return self.fc_out(cls_token)\n",
    "\n",
    "Xper_model = Transformer(n_class, vocab_size, d_model, n_heads, d_ff, n_layers_for_Xper_model, dropout).to(device)"
   ]
  },
  {
   "cell_type": "code",
   "execution_count": 16,
   "id": "7a5328f5",
   "metadata": {},
   "outputs": [
    {
     "name": "stdout",
     "output_type": "stream",
     "text": [
      "Total model parameters: 10969090 -- one crore, nine lakh, sixty-nine thousand and ninety\n"
     ]
    }
   ],
   "source": [
    "from num2words import num2words\n",
    "\n",
    "def number_to_words(num):\n",
    "    # Convert number to words in Indian numbering system\n",
    "    return num2words(num, lang='en_IN')\n",
    "\n",
    "def count_parameters(model):\n",
    "    return sum(p.numel() for p in model.parameters()) \n",
    "# Assuming 'model' is your PyTorch model\n",
    "\n",
    "total_params = count_parameters(Xper_model)\n",
    "print(f\"Total model parameters: {total_params} -- {number_to_words(total_params)}\")"
   ]
  },
  {
   "cell_type": "code",
   "execution_count": 54,
   "id": "57f254ff",
   "metadata": {},
   "outputs": [],
   "source": [
    "def copy_weights(source_model, target_model):\n",
    "    source_dict = source_model.state_dict()\n",
    "    target_dict = target_model.state_dict()\n",
    "\n",
    "    # Copy only the matching keys (layer names must match)\n",
    "    for name in source_dict:\n",
    "        if name in target_dict and source_dict[name].shape == target_dict[name].shape:\n",
    "            target_dict[name] = source_dict[name].clone()\n",
    "\n",
    "    target_model.load_state_dict(target_dict)\n",
    "copy_weights(Bert_base_model, Xper_model)"
   ]
  },
  {
   "cell_type": "code",
   "execution_count": 65,
   "id": "ed24cb3b",
   "metadata": {},
   "outputs": [
    {
     "name": "stdout",
     "output_type": "stream",
     "text": [
      "embedding.weight: ✅ same\n",
      "layers.0.self_attn.w_q.weight: ✅ same\n",
      "layers.0.self_attn.w_k.weight: ✅ same\n",
      "layers.0.self_attn.w_v.weight: ✅ same\n",
      "layers.0.self_attn.w_o.weight: ✅ same\n",
      "layers.0.ff.linear1.weight: ✅ same\n",
      "layers.0.ff.linear1.bias: ✅ same\n",
      "layers.0.ff.linear2.weight: ✅ same\n",
      "layers.0.ff.linear2.bias: ✅ same\n",
      "layers.0.norm1.weight: ✅ same\n",
      "layers.0.norm1.bias: ✅ same\n",
      "layers.0.norm2.weight: ✅ same\n",
      "layers.0.norm2.bias: ✅ same\n",
      "layers.1.self_attn.w_q.weight: ✅ same\n",
      "layers.1.self_attn.w_k.weight: ✅ same\n",
      "layers.1.self_attn.w_v.weight: ✅ same\n",
      "layers.1.self_attn.w_o.weight: ✅ same\n",
      "layers.1.ff.linear1.weight: ✅ same\n",
      "layers.1.ff.linear1.bias: ✅ same\n",
      "layers.1.ff.linear2.weight: ✅ same\n",
      "layers.1.ff.linear2.bias: ✅ same\n",
      "layers.1.norm1.weight: ✅ same\n",
      "layers.1.norm1.bias: ✅ same\n",
      "layers.1.norm2.weight: ✅ same\n",
      "layers.1.norm2.bias: ✅ same\n",
      "layers.2.self_attn.w_q.weight: ✅ same\n",
      "layers.2.self_attn.w_k.weight: ✅ same\n",
      "layers.2.self_attn.w_v.weight: ✅ same\n",
      "layers.2.self_attn.w_o.weight: ✅ same\n",
      "layers.2.ff.linear1.weight: ✅ same\n",
      "layers.2.ff.linear1.bias: ✅ same\n",
      "layers.2.ff.linear2.weight: ✅ same\n",
      "layers.2.ff.linear2.bias: ✅ same\n",
      "layers.2.norm1.weight: ✅ same\n",
      "layers.2.norm1.bias: ✅ same\n",
      "layers.2.norm2.weight: ✅ same\n",
      "layers.2.norm2.bias: ✅ same\n",
      "fc_out.weight: ✅ same\n",
      "fc_out.bias: ✅ same\n"
     ]
    }
   ],
   "source": [
    "for (name_a, param_a), (name_b, param_b) in zip(Bert_base_model.named_parameters(), Xper_model.named_parameters()):\n",
    "    if name_a == name_b:\n",
    "        same = torch.equal(param_a, param_b)\n",
    "        print(f\"{name_a}: {'✅ same' if same else '❌ different'}\")"
   ]
  },
  {
   "cell_type": "code",
   "execution_count": 66,
   "id": "a9d0ec0c",
   "metadata": {},
   "outputs": [
    {
     "name": "stdout",
     "output_type": "stream",
     "text": [
      "Using device: cuda\n",
      "Device name: NVIDIA GeForce GTX 1060 6GB\n",
      "Device memory: 5.999755859375 GB\n",
      "Checkpoint not found. Training from scratch.\n"
     ]
    },
    {
     "name": "stderr",
     "output_type": "stream",
     "text": [
      "Processing Epoch 01: 100%|██████████| 2105/2105 [01:24<00:00, 25.06it/s, loss=0.397]\n"
     ]
    },
    {
     "name": "stdout",
     "output_type": "stream",
     "text": [
      "Checkpoint saved at epoch 1.\n"
     ]
    },
    {
     "name": "stderr",
     "output_type": "stream",
     "text": [
      "Processing Epoch 02: 100%|██████████| 2105/2105 [01:23<00:00, 25.19it/s, loss=0.171]\n"
     ]
    },
    {
     "name": "stdout",
     "output_type": "stream",
     "text": [
      "Checkpoint saved at epoch 2.\n"
     ]
    },
    {
     "name": "stderr",
     "output_type": "stream",
     "text": [
      "Processing Epoch 03: 100%|██████████| 2105/2105 [01:24<00:00, 24.85it/s, loss=0.141]\n"
     ]
    },
    {
     "name": "stdout",
     "output_type": "stream",
     "text": [
      "Checkpoint saved at epoch 3.\n"
     ]
    },
    {
     "name": "stderr",
     "output_type": "stream",
     "text": [
      "Processing Epoch 04: 100%|██████████| 2105/2105 [01:25<00:00, 24.61it/s, loss=0.120]\n"
     ]
    },
    {
     "name": "stdout",
     "output_type": "stream",
     "text": [
      "Checkpoint saved at epoch 4.\n"
     ]
    },
    {
     "name": "stderr",
     "output_type": "stream",
     "text": [
      "Processing Epoch 05: 100%|██████████| 2105/2105 [01:25<00:00, 24.70it/s, loss=0.040]\n"
     ]
    },
    {
     "name": "stdout",
     "output_type": "stream",
     "text": [
      "Checkpoint saved at epoch 5.\n"
     ]
    },
    {
     "name": "stderr",
     "output_type": "stream",
     "text": [
      "Processing Epoch 06: 100%|██████████| 2105/2105 [01:26<00:00, 24.26it/s, loss=0.106]\n"
     ]
    },
    {
     "name": "stdout",
     "output_type": "stream",
     "text": [
      "Checkpoint saved at epoch 6.\n"
     ]
    },
    {
     "name": "stderr",
     "output_type": "stream",
     "text": [
      "Processing Epoch 07: 100%|██████████| 2105/2105 [01:24<00:00, 24.82it/s, loss=0.063]\n"
     ]
    },
    {
     "name": "stdout",
     "output_type": "stream",
     "text": [
      "Checkpoint saved at epoch 7.\n"
     ]
    },
    {
     "name": "stderr",
     "output_type": "stream",
     "text": [
      "Processing Epoch 08: 100%|██████████| 2105/2105 [01:25<00:00, 24.55it/s, loss=0.017]\n"
     ]
    },
    {
     "name": "stdout",
     "output_type": "stream",
     "text": [
      "Checkpoint saved at epoch 8.\n"
     ]
    },
    {
     "name": "stderr",
     "output_type": "stream",
     "text": [
      "Processing Epoch 09: 100%|██████████| 2105/2105 [01:25<00:00, 24.63it/s, loss=0.007]\n"
     ]
    },
    {
     "name": "stdout",
     "output_type": "stream",
     "text": [
      "Checkpoint saved at epoch 9.\n"
     ]
    },
    {
     "name": "stderr",
     "output_type": "stream",
     "text": [
      "Processing Epoch 10: 100%|██████████| 2105/2105 [01:24<00:00, 25.01it/s, loss=0.013]\n"
     ]
    },
    {
     "name": "stdout",
     "output_type": "stream",
     "text": [
      "Checkpoint saved at epoch 10.\n"
     ]
    }
   ],
   "source": [
    "import torch \n",
    "import torch.nn as nn \n",
    "from torch.utils.data import DataLoader \n",
    "from tqdm import tqdm\n",
    "import os\n",
    "import warnings\n",
    "\n",
    "epochs = 10\n",
    "lr = 10**-4\n",
    "batch_size = 32\n",
    "\n",
    "train_dataloader = DataLoader(train_dataset, batch_size = batch_size, shuffle = False)\n",
    "\n",
    "def train_model(model, load_path, save_path ):\n",
    "\n",
    "    device = \"cuda\" if torch.cuda.is_available() else \"mps\" if torch.has_mps or torch.backends.mps.is_available() else \"cpu\"\n",
    "    print(\"Using device:\", device)\n",
    "    if device == 'cuda':\n",
    "        print(f\"Device name: {torch.cuda.get_device_name(device.index)}\")\n",
    "        print(f\"Device memory: {torch.cuda.get_device_properties(device.index).total_memory / 1024 ** 3} GB\")\n",
    "\n",
    "    checkpoint_path = load_path\n",
    "    initial_epoch = 0\n",
    "\n",
    "    optimizer = torch.optim.AdamW(model.parameters(), lr=lr, eps=1e-9)\n",
    "    loss_fn = nn.CrossEntropyLoss().to(device)\n",
    "\n",
    "    # Load checkpoint if available\n",
    "    if os.path.exists(checkpoint_path):\n",
    "        print(\"Checkpoint found. Loading model and optimizer state...\")\n",
    "        checkpoint = torch.load(checkpoint_path)\n",
    "        model.load_state_dict(checkpoint['model_state_dict'])\n",
    "        optimizer.load_state_dict(checkpoint['optimizer_state_dict'])\n",
    "        initial_epoch = checkpoint['epoch'] + 1  # Resume from the next epoch\n",
    "        print(f\"Model loaded from checkpoint. Resuming from epoch {initial_epoch + 1}.\")\n",
    "    else:\n",
    "        print(\"Checkpoint not found. Training from scratch.\")\n",
    "\n",
    "    for epoch in range(initial_epoch, epochs):\n",
    "        torch.cuda.empty_cache()\n",
    "        model.train()\n",
    "        total_loss = 0  # To track loss\n",
    "        i = 0\n",
    "        batch_iterator = tqdm(train_dataloader, desc=f\"Processing Epoch {epoch+1:02d}\")\n",
    "        for batch in batch_iterator:\n",
    "            input_ids = batch['input_ids'].to(device)\n",
    "            attention_mask = batch['pad_mask'].to(device)\n",
    "            targets = batch['label'].to(device)\n",
    "\n",
    "            # Forward pass\n",
    "            output = model(input_ids, attention_mask)\n",
    "            loss = loss_fn(output, targets)\n",
    "            batch_iterator.set_postfix({\"loss\": f\"{loss.item():6.3f}\"})            \n",
    "\n",
    "            optimizer.zero_grad()\n",
    "            loss.backward()\n",
    "            optimizer.step()\n",
    "\n",
    "            # Accumulate loss\n",
    "            total_loss += loss.item()\n",
    "            i += 1\n",
    "        # Save model checkpoint with epoch number and optimizer state\n",
    "        torch.save({\n",
    "            'epoch': epoch,\n",
    "            'model_state_dict': model.state_dict(),\n",
    "            'optimizer_state_dict': optimizer.state_dict()\n",
    "        }, save_path)\n",
    "\n",
    "        print(f\"Checkpoint saved at epoch {epoch + 1}.\")\n",
    "        #run_validation(model, custom_tokenizer, 16, device, lambda msg: batch_iterator.write(msg))\n",
    "if __name__ == '__main__':\n",
    "    warnings.filterwarnings(\"ignore\")\n",
    "    train_model(Bert_base_model, \"Bert_Param.pth\", \"BERT_Params.pth\")"
   ]
  },
  {
   "cell_type": "code",
   "execution_count": 73,
   "id": "a918b5d5",
   "metadata": {},
   "outputs": [
    {
     "name": "stdout",
     "output_type": "stream",
     "text": [
      "Using device: cuda\n",
      "Device name: NVIDIA GeForce GTX 1060 6GB\n",
      "Device memory: 5.999755859375 GB\n",
      "Checkpoint not found. Training from scratch.\n"
     ]
    },
    {
     "name": "stderr",
     "output_type": "stream",
     "text": [
      "Processing Epoch 01: 100%|██████████| 2105/2105 [01:33<00:00, 22.63it/s, loss=0.494]\n"
     ]
    },
    {
     "name": "stdout",
     "output_type": "stream",
     "text": [
      "Checkpoint saved at epoch 1.\n"
     ]
    },
    {
     "name": "stderr",
     "output_type": "stream",
     "text": [
      "Processing Epoch 02: 100%|██████████| 2105/2105 [02:05<00:00, 16.76it/s, loss=0.457]\n"
     ]
    },
    {
     "name": "stdout",
     "output_type": "stream",
     "text": [
      "Checkpoint saved at epoch 2.\n"
     ]
    },
    {
     "name": "stderr",
     "output_type": "stream",
     "text": [
      "Processing Epoch 03: 100%|██████████| 2105/2105 [01:41<00:00, 20.78it/s, loss=0.217]\n"
     ]
    },
    {
     "name": "stdout",
     "output_type": "stream",
     "text": [
      "Checkpoint saved at epoch 3.\n"
     ]
    },
    {
     "name": "stderr",
     "output_type": "stream",
     "text": [
      "Processing Epoch 04: 100%|██████████| 2105/2105 [02:03<00:00, 17.08it/s, loss=0.230]\n"
     ]
    },
    {
     "name": "stdout",
     "output_type": "stream",
     "text": [
      "Checkpoint saved at epoch 4.\n"
     ]
    },
    {
     "name": "stderr",
     "output_type": "stream",
     "text": [
      "Processing Epoch 05: 100%|██████████| 2105/2105 [01:47<00:00, 19.67it/s, loss=0.091]\n"
     ]
    },
    {
     "name": "stdout",
     "output_type": "stream",
     "text": [
      "Checkpoint saved at epoch 5.\n"
     ]
    },
    {
     "name": "stderr",
     "output_type": "stream",
     "text": [
      "Processing Epoch 06: 100%|██████████| 2105/2105 [01:55<00:00, 18.22it/s, loss=0.032]\n"
     ]
    },
    {
     "name": "stdout",
     "output_type": "stream",
     "text": [
      "Checkpoint saved at epoch 6.\n"
     ]
    },
    {
     "name": "stderr",
     "output_type": "stream",
     "text": [
      "Processing Epoch 07: 100%|██████████| 2105/2105 [01:56<00:00, 18.09it/s, loss=0.131]\n"
     ]
    },
    {
     "name": "stdout",
     "output_type": "stream",
     "text": [
      "Checkpoint saved at epoch 7.\n"
     ]
    },
    {
     "name": "stderr",
     "output_type": "stream",
     "text": [
      "Processing Epoch 08: 100%|██████████| 2105/2105 [01:56<00:00, 18.12it/s, loss=0.005]\n"
     ]
    },
    {
     "name": "stdout",
     "output_type": "stream",
     "text": [
      "Checkpoint saved at epoch 8.\n"
     ]
    },
    {
     "name": "stderr",
     "output_type": "stream",
     "text": [
      "Processing Epoch 09: 100%|██████████| 2105/2105 [01:40<00:00, 20.93it/s, loss=0.004]\n"
     ]
    },
    {
     "name": "stdout",
     "output_type": "stream",
     "text": [
      "Checkpoint saved at epoch 9.\n"
     ]
    },
    {
     "name": "stderr",
     "output_type": "stream",
     "text": [
      "Processing Epoch 10: 100%|██████████| 2105/2105 [01:41<00:00, 20.72it/s, loss=0.013]\n"
     ]
    },
    {
     "name": "stdout",
     "output_type": "stream",
     "text": [
      "Checkpoint saved at epoch 10.\n"
     ]
    }
   ],
   "source": [
    "if __name__ == '__main__':\n",
    "    warnings.filterwarnings(\"ignore\")\n",
    "    train_model(Xper_model, \"Bert_Param.pth\", \"BERT_3_+_1_single_Params.pth\")"
   ]
  },
  {
   "cell_type": "code",
   "execution_count": 20,
   "id": "22624f76",
   "metadata": {},
   "outputs": [],
   "source": [
    "def pad_mask_function(input_ids, pad_token=0):\n",
    "    key_padding = (input_ids != pad_token).int()\n",
    "    pad_mask = key_padding.unsqueeze(0) & key_padding.unsqueeze(1)  # [seq_len, seq_len]\n",
    "    pad_mask = pad_mask.unsqueeze(0).int()  # Final shape: [1, seq_len, seq_len]\n",
    "    return pad_mask"
   ]
  },
  {
   "cell_type": "code",
   "execution_count": 25,
   "id": "f0c214dd",
   "metadata": {},
   "outputs": [
    {
     "data": {
      "text/plain": [
       "<All keys matched successfully>"
      ]
     },
     "execution_count": 25,
     "metadata": {},
     "output_type": "execute_result"
    }
   ],
   "source": [
    "checkpoint1 = torch.load(\"BERT_Params.pth\")\n",
    "Bert_base_model.load_state_dict(checkpoint1['model_state_dict'])\n",
    "checkpoint2 = torch.load(\"BERT_3_+_1_single_Params.pth\")\n",
    "Xper_model.load_state_dict(checkpoint2['model_state_dict'])"
   ]
  },
  {
   "cell_type": "code",
   "execution_count": null,
   "id": "f362a28b",
   "metadata": {},
   "outputs": [],
   "source": [
    "import torch\n",
    "import torch.nn.functional as F\n",
    "import matplotlib.pyplot as plt\n",
    "import seaborn as sns\n",
    "\n",
    "def predict_and_visualize_dual_models(\n",
    "    text, \n",
    "    tokenizer, \n",
    "    model_base, \n",
    "    model_modified, \n",
    "    pad_mask_function, \n",
    "    max_len=64, \n",
    "    device=\"cpu\"\n",
    "):\n",
    "    models = {\n",
    "        \"Base BERT\": model_base,\n",
    "        \"Modified BERT\": model_modified\n",
    "    }\n",
    "    \n",
    "    # Tokenize once\n",
    "    tokens = tokenizer.encode(text, add_special_tokens=True, max_length=max_len, truncation=True)\n",
    "    token_in_sep_ids = tokenizer.convert_ids_to_tokens(tokens)\n",
    "    token_in_sep_ids = token_in_sep_ids[1:-1]\n",
    "    input_ids = torch.tensor(tokens, dtype=torch.long).unsqueeze(0).to(device)\n",
    "    pad_mask = pad_mask_function(input_ids, pad_token=0).to(device)\n",
    "\n",
    "    fig, axes = plt.subplots(1, 2, figsize=(14, 6))\n",
    "    \n",
    "    for i, (label, model) in enumerate(models.items()):\n",
    "        model.eval()\n",
    "        with torch.no_grad():\n",
    "            output = model(input_ids, pad_mask, return_attention_weights=True)\n",
    "            probs = F.softmax(output, dim=1).squeeze()\n",
    "            \n",
    "            if label == \"Modified BERT\":\n",
    "                attention = model.final_atten.self_attn.attn_weights.squeeze(0).squeeze(0)\n",
    "                attention = attention[1:-1, 1:-1] \n",
    "                \n",
    "            else:\n",
    "                attention = model.layers[-1].self_attn.attn_weights.squeeze(0)  \n",
    "                attention = attention.mean(0).squeeze(0)  \n",
    "                attention = attention[1:-1, 1:-1] \n",
    "\n",
    "\n",
    "        pred_class = torch.argmax(probs).item()\n",
    "        sentiment = \"Positive\" if pred_class == 1 else \"Negative\"\n",
    "        \n",
    "        sns.heatmap(attention.cpu().numpy(), \n",
    "                    xticklabels=token_in_sep_ids,\n",
    "                    yticklabels=token_in_sep_ids,\n",
    "                    cmap='viridis',\n",
    "                    ax=axes[i])\n",
    "        \n",
    "        axes[i].set_title(f\"{label}\\nPrediction: {sentiment} ({probs[pred_class]:.4f})\", fontsize=12)\n",
    "        axes[i].tick_params(axis='x', rotation=45)\n",
    "        axes[i].tick_params(axis='y', rotation=0)\n",
    "\n",
    "    fig.suptitle(f\"Sentence: \\\"{text}\\\"\", fontsize=14)\n",
    "    plt.tight_layout()\n",
    "    plt.show()\n"
   ]
  },
  {
   "cell_type": "code",
   "execution_count": 65,
   "id": "07d6eae5",
   "metadata": {},
   "outputs": [
    {
     "name": "stdout",
     "output_type": "stream",
     "text": [
      "Tokenized input: ['the', 'movie', 'was', 'surprisingly', 'good']\n"
     ]
    },
    {
     "data": {
      "image/png": "[encoded data removed]",
      "text/plain": [
       "<Figure size 1400x600 with 4 Axes>"
      ]
     },
     "metadata": {},
     "output_type": "display_data"
    }
   ],
   "source": [
    "predict_and_visualize_dual_models(\n",
    "    text=\"The movie was surprisingly good\",\n",
    "    tokenizer=tokenizer,\n",
    "    model_base = Bert_base_model,\n",
    "    model_modified = Xper_model,\n",
    "    pad_mask_function = pad_mask_function,\n",
    "    device=\"cuda\" if torch.cuda.is_available() else \"cpu\"\n",
    ")\n"
   ]
  },
  {
   "cell_type": "code",
   "execution_count": 95,
   "id": "d53984ee",
   "metadata": {},
   "outputs": [],
   "source": [
    "from sklearn.metrics import classification_report, confusion_matrix, accuracy_score\n",
    "import torch.nn.functional as F\n",
    "import numpy as np\n",
    "import torch\n",
    "\n",
    "def evaluate_model(model, val_dataloader, device, class_names=[\"Negative\", \"Positive\"]):\n",
    "    model.eval()\n",
    "    all_preds = []\n",
    "    all_labels = []\n",
    "\n",
    "    with torch.no_grad():\n",
    "        for batch in val_dataloader:\n",
    "            input_ids = batch['input_ids'].to(device)\n",
    "            attention_mask = batch['pad_mask'].to(device)\n",
    "            labels = batch['label'].to(device)\n",
    "\n",
    "            outputs = model(input_ids, attention_mask)\n",
    "            logits = outputs\n",
    "            preds = torch.argmax(F.softmax(logits, dim=1), dim=1)\n",
    "\n",
    "            all_preds.extend(preds.cpu().numpy())\n",
    "            all_labels.extend(labels.cpu().numpy())\n",
    "\n",
    "    accuracy = accuracy_score(all_labels, all_preds)\n",
    "    conf_matrix = confusion_matrix(all_labels, all_preds)\n",
    "    report = classification_report(all_labels, all_preds, target_names=class_names)\n",
    "\n",
    "    print(f\"\\n✅ Validation Accuracy: {accuracy:.4f}\")\n",
    "    print(\"\\n📊 Confusion Matrix:\")\n",
    "    print(conf_matrix)\n",
    "    print(\"\\n📈 Classification Report:\")\n",
    "    print(report)\n",
    "\n",
    "    return accuracy, conf_matrix, report"
   ]
  },
  {
   "cell_type": "code",
   "execution_count": 96,
   "id": "a2b3f7da",
   "metadata": {},
   "outputs": [],
   "source": [
    "val_dataloader = DataLoader(val_dataset, batch_size=8, shuffle=False)"
   ]
  },
  {
   "cell_type": "code",
   "execution_count": 97,
   "id": "bc744113",
   "metadata": {},
   "outputs": [
    {
     "name": "stdout",
     "output_type": "stream",
     "text": [
      "\n",
      "✅ Validation Accuracy: 0.7970\n",
      "\n",
      "📊 Confusion Matrix:\n",
      "[[348  80]\n",
      " [ 97 347]]\n",
      "\n",
      "📈 Classification Report:\n",
      "              precision    recall  f1-score   support\n",
      "\n",
      "    Negative       0.78      0.81      0.80       428\n",
      "    Positive       0.81      0.78      0.80       444\n",
      "\n",
      "    accuracy                           0.80       872\n",
      "   macro avg       0.80      0.80      0.80       872\n",
      "weighted avg       0.80      0.80      0.80       872\n",
      "\n"
     ]
    }
   ],
   "source": [
    "acc, cm, report = evaluate_model(Xper_model, val_dataloader, device)"
   ]
  },
  {
   "cell_type": "code",
   "execution_count": 100,
   "id": "061f1cd7",
   "metadata": {},
   "outputs": [
    {
     "name": "stdout",
     "output_type": "stream",
     "text": [
      "\n",
      "✅ Validation Accuracy: 0.7890\n",
      "\n",
      "📊 Confusion Matrix:\n",
      "[[334  94]\n",
      " [ 90 354]]\n",
      "\n",
      "📈 Classification Report:\n",
      "              precision    recall  f1-score   support\n",
      "\n",
      "    Negative       0.79      0.78      0.78       428\n",
      "    Positive       0.79      0.80      0.79       444\n",
      "\n",
      "    accuracy                           0.79       872\n",
      "   macro avg       0.79      0.79      0.79       872\n",
      "weighted avg       0.79      0.79      0.79       872\n",
      "\n"
     ]
    }
   ],
   "source": [
    "acc, cm, report = evaluate_model(Bert_base_model, val_dataloader, device)"
   ]
  }
 ],
 "metadata": {
  "kernelspec": {
   "display_name": "Python 3",
   "language": "python",
   "name": "python3"
  },
  "language_info": {
   "codemirror_mode": {
    "name": "ipython",
    "version": 3
   },
   "file_extension": ".py",
   "mimetype": "text/x-python",
   "name": "python",
   "nbconvert_exporter": "python",
   "pygments_lexer": "ipython3",
   "version": "3.11.0"
  }
 },
 "nbformat": 4,
 "nbformat_minor": 5
}
